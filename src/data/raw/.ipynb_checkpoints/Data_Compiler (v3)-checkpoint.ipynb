{
 "cells": [
  {
   "cell_type": "code",
   "execution_count": 3,
   "metadata": {},
   "outputs": [],
   "source": [
    "import pandas as pd, numpy as np"
   ]
  },
  {
   "cell_type": "code",
   "execution_count": 5,
   "metadata": {},
   "outputs": [],
   "source": [
    "## Import raw data\n",
    "\n",
    "df_red = pd.read_csv('winequality-red.csv', sep = ';')\n",
    "df_white = pd.read_csv('winequality-white.csv', sep = ';')"
   ]
  },
  {
   "cell_type": "code",
   "execution_count": 6,
   "metadata": {},
   "outputs": [
    {
     "output_type": "stream",
     "name": "stdout",
     "text": [
      "<class 'pandas.core.frame.DataFrame'>\nRangeIndex: 1599 entries, 0 to 1598\nData columns (total 13 columns):\n #   Column                Non-Null Count  Dtype  \n---  ------                --------------  -----  \n 0   fixed acidity         1599 non-null   float64\n 1   volatile acidity      1599 non-null   float64\n 2   citric acid           1599 non-null   float64\n 3   residual sugar        1599 non-null   float64\n 4   chlorides             1599 non-null   float64\n 5   free sulfur dioxide   1599 non-null   float64\n 6   total sulfur dioxide  1599 non-null   float64\n 7   density               1599 non-null   float64\n 8   pH                    1599 non-null   float64\n 9   sulphates             1599 non-null   float64\n 10  alcohol               1599 non-null   float64\n 11  quality               1599 non-null   int64  \n 12  wine                  1599 non-null   object \ndtypes: float64(11), int64(1), object(1)\nmemory usage: 162.5+ KB\n"
     ]
    }
   ],
   "source": [
    "## Check length of raw data\n",
    "\n",
    "df_red['wine'] = 'red'\n",
    "df_red.info()"
   ]
  },
  {
   "cell_type": "code",
   "execution_count": 7,
   "metadata": {},
   "outputs": [
    {
     "output_type": "stream",
     "name": "stdout",
     "text": [
      "<class 'pandas.core.frame.DataFrame'>\nRangeIndex: 4898 entries, 0 to 4897\nData columns (total 13 columns):\n #   Column                Non-Null Count  Dtype  \n---  ------                --------------  -----  \n 0   fixed acidity         4898 non-null   float64\n 1   volatile acidity      4898 non-null   float64\n 2   citric acid           4898 non-null   float64\n 3   residual sugar        4898 non-null   float64\n 4   chlorides             4898 non-null   float64\n 5   free sulfur dioxide   4898 non-null   float64\n 6   total sulfur dioxide  4898 non-null   float64\n 7   density               4898 non-null   float64\n 8   pH                    4898 non-null   float64\n 9   sulphates             4898 non-null   float64\n 10  alcohol               4898 non-null   float64\n 11  quality               4898 non-null   int64  \n 12  wine                  4898 non-null   object \ndtypes: float64(11), int64(1), object(1)\nmemory usage: 497.6+ KB\n"
     ]
    }
   ],
   "source": [
    "## Check length of raw data\n",
    "\n",
    "df_white['wine'] = 'white'\n",
    "df_white.info()"
   ]
  },
  {
   "cell_type": "code",
   "execution_count": 9,
   "metadata": {},
   "outputs": [
    {
     "output_type": "stream",
     "name": "stdout",
     "text": [
      "<class 'pandas.core.frame.DataFrame'>\nInt64Index: 6497 entries, 0 to 4897\nData columns (total 14 columns):\n #   Column                Non-Null Count  Dtype  \n---  ------                --------------  -----  \n 0   Wine                  6497 non-null   object \n 1   Fixed Acidity         6497 non-null   float64\n 2   Volatile Acidity      6497 non-null   float64\n 3   Citric Acid           6497 non-null   float64\n 4   Residual Sugar        6497 non-null   float64\n 5   Chlorides             6497 non-null   float64\n 6   Free Sulfur Dioxide   6497 non-null   float64\n 7   Total Sulfur Dioxide  6497 non-null   float64\n 8   Density               6497 non-null   float64\n 9   Ph                    6497 non-null   float64\n 10  Sulphates             6497 non-null   float64\n 11  Alcohol               6497 non-null   float64\n 12  Quality               6497 non-null   int64  \n 13  Final_Quality         6497 non-null   object \ndtypes: float64(11), int64(1), object(2)\nmemory usage: 761.4+ KB\n"
     ]
    }
   ],
   "source": [
    "## Merging data frames\n",
    "wine_quality = pd.concat([df_red, df_white])\n",
    "\n",
    "## Adding final relative quality column\n",
    "wine_quality['final_quality'] = wine_quality['quality'].apply(lambda x: 'Below Average' if x < 6 \n",
    "                                                              else ('Above Average' if x > 6 else 'Average'))\n",
    "\n",
    "## Reorganizing columns\n",
    "cols = ['wine','fixed acidity','volatile acidity','citric acid','residual sugar','chlorides','free sulfur dioxide','total sulfur dioxide','density','pH','sulphates','alcohol','quality','final_quality']\n",
    "wine_quality = wine_quality[cols]\n",
    "wine_quality.columns = map(str.title, wine_quality.columns)\n",
    "\n",
    "## Check length of new data (6497 = 4898 + 1599 )\n",
    "wine_quality.info()"
   ]
  },
  {
   "cell_type": "code",
   "execution_count": 10,
   "metadata": {},
   "outputs": [
    {
     "output_type": "execute_result",
     "data": {
      "text/plain": [
       "       Wine  Fixed Acidity  Volatile Acidity  Citric Acid  Residual Sugar  \\\n",
       "1524  white            6.6              0.21         0.49           18.15   \n",
       "3207  white            6.8              0.21         0.42            1.20   \n",
       "298     red            7.2              0.65         0.02            2.30   \n",
       "974     red            8.8              0.33         0.41            5.90   \n",
       "664     red           12.1              0.40         0.52            2.00   \n",
       "3320  white            7.5              0.29         0.36           15.70   \n",
       "1539  white            7.3              0.26         0.49            5.00   \n",
       "4639  white            6.9              0.54         0.26           12.70   \n",
       "\n",
       "      Chlorides  Free Sulfur Dioxide  Total Sulfur Dioxide  Density    Ph  \\\n",
       "1524      0.042                 41.0                 158.0  0.99970  3.28   \n",
       "3207      0.045                 24.0                 126.0  0.99234  3.09   \n",
       "298       0.094                  5.0                  31.0  0.99930  3.67   \n",
       "974       0.073                  7.0                  13.0  0.99658  3.30   \n",
       "664       0.092                 15.0                  54.0  1.00000  3.03   \n",
       "3320      0.050                 29.0                 124.0  0.99680  3.06   \n",
       "1539      0.028                 32.0                 107.0  0.99360  3.24   \n",
       "4639      0.049                 59.0                 195.0  0.99596  3.26   \n",
       "\n",
       "      Sulphates  Alcohol  Quality  Final_Quality  \n",
       "1524       0.39      8.7        6        Average  \n",
       "3207       0.87     10.9        6        Average  \n",
       "298        0.80      9.7        5  Below Average  \n",
       "974        0.62     12.1        7  Above Average  \n",
       "664        0.66     10.2        5  Below Average  \n",
       "3320       0.54     10.4        5  Below Average  \n",
       "1539       0.54     10.8        6        Average  \n",
       "4639       0.54     10.5        6        Average  "
      ],
      "text/html": "<div>\n<style scoped>\n    .dataframe tbody tr th:only-of-type {\n        vertical-align: middle;\n    }\n\n    .dataframe tbody tr th {\n        vertical-align: top;\n    }\n\n    .dataframe thead th {\n        text-align: right;\n    }\n</style>\n<table border=\"1\" class=\"dataframe\">\n  <thead>\n    <tr style=\"text-align: right;\">\n      <th></th>\n      <th>Wine</th>\n      <th>Fixed Acidity</th>\n      <th>Volatile Acidity</th>\n      <th>Citric Acid</th>\n      <th>Residual Sugar</th>\n      <th>Chlorides</th>\n      <th>Free Sulfur Dioxide</th>\n      <th>Total Sulfur Dioxide</th>\n      <th>Density</th>\n      <th>Ph</th>\n      <th>Sulphates</th>\n      <th>Alcohol</th>\n      <th>Quality</th>\n      <th>Final_Quality</th>\n    </tr>\n  </thead>\n  <tbody>\n    <tr>\n      <th>1524</th>\n      <td>white</td>\n      <td>6.6</td>\n      <td>0.21</td>\n      <td>0.49</td>\n      <td>18.15</td>\n      <td>0.042</td>\n      <td>41.0</td>\n      <td>158.0</td>\n      <td>0.99970</td>\n      <td>3.28</td>\n      <td>0.39</td>\n      <td>8.7</td>\n      <td>6</td>\n      <td>Average</td>\n    </tr>\n    <tr>\n      <th>3207</th>\n      <td>white</td>\n      <td>6.8</td>\n      <td>0.21</td>\n      <td>0.42</td>\n      <td>1.20</td>\n      <td>0.045</td>\n      <td>24.0</td>\n      <td>126.0</td>\n      <td>0.99234</td>\n      <td>3.09</td>\n      <td>0.87</td>\n      <td>10.9</td>\n      <td>6</td>\n      <td>Average</td>\n    </tr>\n    <tr>\n      <th>298</th>\n      <td>red</td>\n      <td>7.2</td>\n      <td>0.65</td>\n      <td>0.02</td>\n      <td>2.30</td>\n      <td>0.094</td>\n      <td>5.0</td>\n      <td>31.0</td>\n      <td>0.99930</td>\n      <td>3.67</td>\n      <td>0.80</td>\n      <td>9.7</td>\n      <td>5</td>\n      <td>Below Average</td>\n    </tr>\n    <tr>\n      <th>974</th>\n      <td>red</td>\n      <td>8.8</td>\n      <td>0.33</td>\n      <td>0.41</td>\n      <td>5.90</td>\n      <td>0.073</td>\n      <td>7.0</td>\n      <td>13.0</td>\n      <td>0.99658</td>\n      <td>3.30</td>\n      <td>0.62</td>\n      <td>12.1</td>\n      <td>7</td>\n      <td>Above Average</td>\n    </tr>\n    <tr>\n      <th>664</th>\n      <td>red</td>\n      <td>12.1</td>\n      <td>0.40</td>\n      <td>0.52</td>\n      <td>2.00</td>\n      <td>0.092</td>\n      <td>15.0</td>\n      <td>54.0</td>\n      <td>1.00000</td>\n      <td>3.03</td>\n      <td>0.66</td>\n      <td>10.2</td>\n      <td>5</td>\n      <td>Below Average</td>\n    </tr>\n    <tr>\n      <th>3320</th>\n      <td>white</td>\n      <td>7.5</td>\n      <td>0.29</td>\n      <td>0.36</td>\n      <td>15.70</td>\n      <td>0.050</td>\n      <td>29.0</td>\n      <td>124.0</td>\n      <td>0.99680</td>\n      <td>3.06</td>\n      <td>0.54</td>\n      <td>10.4</td>\n      <td>5</td>\n      <td>Below Average</td>\n    </tr>\n    <tr>\n      <th>1539</th>\n      <td>white</td>\n      <td>7.3</td>\n      <td>0.26</td>\n      <td>0.49</td>\n      <td>5.00</td>\n      <td>0.028</td>\n      <td>32.0</td>\n      <td>107.0</td>\n      <td>0.99360</td>\n      <td>3.24</td>\n      <td>0.54</td>\n      <td>10.8</td>\n      <td>6</td>\n      <td>Average</td>\n    </tr>\n    <tr>\n      <th>4639</th>\n      <td>white</td>\n      <td>6.9</td>\n      <td>0.54</td>\n      <td>0.26</td>\n      <td>12.70</td>\n      <td>0.049</td>\n      <td>59.0</td>\n      <td>195.0</td>\n      <td>0.99596</td>\n      <td>3.26</td>\n      <td>0.54</td>\n      <td>10.5</td>\n      <td>6</td>\n      <td>Average</td>\n    </tr>\n  </tbody>\n</table>\n</div>"
     },
     "metadata": {},
     "execution_count": 10
    }
   ],
   "source": [
    "## Last check on df structure\n",
    "wine_quality.sample(8)"
   ]
  },
  {
   "cell_type": "code",
   "execution_count": 11,
   "metadata": {},
   "outputs": [],
   "source": [
    "## Export\n",
    "wine_quality.to_csv('wine_quality.csv', index=False)"
   ]
  },
  {
   "cell_type": "code",
   "execution_count": 12,
   "metadata": {},
   "outputs": [
    {
     "output_type": "execute_result",
     "data": {
      "text/plain": [
       "       Wine  Fixed Acidity  Volatile Acidity  Citric Acid  Residual Sugar  \\\n",
       "0       red            7.4              0.70         0.00             1.9   \n",
       "1       red            7.8              0.88         0.00             2.6   \n",
       "2       red            7.8              0.76         0.04             2.3   \n",
       "3       red           11.2              0.28         0.56             1.9   \n",
       "4       red            7.4              0.70         0.00             1.9   \n",
       "...     ...            ...               ...          ...             ...   \n",
       "6492  white            6.2              0.21         0.29             1.6   \n",
       "6493  white            6.6              0.32         0.36             8.0   \n",
       "6494  white            6.5              0.24         0.19             1.2   \n",
       "6495  white            5.5              0.29         0.30             1.1   \n",
       "6496  white            6.0              0.21         0.38             0.8   \n",
       "\n",
       "      Chlorides  Free Sulfur Dioxide  Total Sulfur Dioxide  Density    Ph  \\\n",
       "0         0.076                 11.0                  34.0  0.99780  3.51   \n",
       "1         0.098                 25.0                  67.0  0.99680  3.20   \n",
       "2         0.092                 15.0                  54.0  0.99700  3.26   \n",
       "3         0.075                 17.0                  60.0  0.99800  3.16   \n",
       "4         0.076                 11.0                  34.0  0.99780  3.51   \n",
       "...         ...                  ...                   ...      ...   ...   \n",
       "6492      0.039                 24.0                  92.0  0.99114  3.27   \n",
       "6493      0.047                 57.0                 168.0  0.99490  3.15   \n",
       "6494      0.041                 30.0                 111.0  0.99254  2.99   \n",
       "6495      0.022                 20.0                 110.0  0.98869  3.34   \n",
       "6496      0.020                 22.0                  98.0  0.98941  3.26   \n",
       "\n",
       "      Sulphates  Alcohol  Quality  Final_Quality  \n",
       "0          0.56      9.4        5  Below Average  \n",
       "1          0.68      9.8        5  Below Average  \n",
       "2          0.65      9.8        5  Below Average  \n",
       "3          0.58      9.8        6        Average  \n",
       "4          0.56      9.4        5  Below Average  \n",
       "...         ...      ...      ...            ...  \n",
       "6492       0.50     11.2        6        Average  \n",
       "6493       0.46      9.6        5  Below Average  \n",
       "6494       0.46      9.4        6        Average  \n",
       "6495       0.38     12.8        7  Above Average  \n",
       "6496       0.32     11.8        6        Average  \n",
       "\n",
       "[6497 rows x 14 columns]"
      ],
      "text/html": "<div>\n<style scoped>\n    .dataframe tbody tr th:only-of-type {\n        vertical-align: middle;\n    }\n\n    .dataframe tbody tr th {\n        vertical-align: top;\n    }\n\n    .dataframe thead th {\n        text-align: right;\n    }\n</style>\n<table border=\"1\" class=\"dataframe\">\n  <thead>\n    <tr style=\"text-align: right;\">\n      <th></th>\n      <th>Wine</th>\n      <th>Fixed Acidity</th>\n      <th>Volatile Acidity</th>\n      <th>Citric Acid</th>\n      <th>Residual Sugar</th>\n      <th>Chlorides</th>\n      <th>Free Sulfur Dioxide</th>\n      <th>Total Sulfur Dioxide</th>\n      <th>Density</th>\n      <th>Ph</th>\n      <th>Sulphates</th>\n      <th>Alcohol</th>\n      <th>Quality</th>\n      <th>Final_Quality</th>\n    </tr>\n  </thead>\n  <tbody>\n    <tr>\n      <th>0</th>\n      <td>red</td>\n      <td>7.4</td>\n      <td>0.70</td>\n      <td>0.00</td>\n      <td>1.9</td>\n      <td>0.076</td>\n      <td>11.0</td>\n      <td>34.0</td>\n      <td>0.99780</td>\n      <td>3.51</td>\n      <td>0.56</td>\n      <td>9.4</td>\n      <td>5</td>\n      <td>Below Average</td>\n    </tr>\n    <tr>\n      <th>1</th>\n      <td>red</td>\n      <td>7.8</td>\n      <td>0.88</td>\n      <td>0.00</td>\n      <td>2.6</td>\n      <td>0.098</td>\n      <td>25.0</td>\n      <td>67.0</td>\n      <td>0.99680</td>\n      <td>3.20</td>\n      <td>0.68</td>\n      <td>9.8</td>\n      <td>5</td>\n      <td>Below Average</td>\n    </tr>\n    <tr>\n      <th>2</th>\n      <td>red</td>\n      <td>7.8</td>\n      <td>0.76</td>\n      <td>0.04</td>\n      <td>2.3</td>\n      <td>0.092</td>\n      <td>15.0</td>\n      <td>54.0</td>\n      <td>0.99700</td>\n      <td>3.26</td>\n      <td>0.65</td>\n      <td>9.8</td>\n      <td>5</td>\n      <td>Below Average</td>\n    </tr>\n    <tr>\n      <th>3</th>\n      <td>red</td>\n      <td>11.2</td>\n      <td>0.28</td>\n      <td>0.56</td>\n      <td>1.9</td>\n      <td>0.075</td>\n      <td>17.0</td>\n      <td>60.0</td>\n      <td>0.99800</td>\n      <td>3.16</td>\n      <td>0.58</td>\n      <td>9.8</td>\n      <td>6</td>\n      <td>Average</td>\n    </tr>\n    <tr>\n      <th>4</th>\n      <td>red</td>\n      <td>7.4</td>\n      <td>0.70</td>\n      <td>0.00</td>\n      <td>1.9</td>\n      <td>0.076</td>\n      <td>11.0</td>\n      <td>34.0</td>\n      <td>0.99780</td>\n      <td>3.51</td>\n      <td>0.56</td>\n      <td>9.4</td>\n      <td>5</td>\n      <td>Below Average</td>\n    </tr>\n    <tr>\n      <th>...</th>\n      <td>...</td>\n      <td>...</td>\n      <td>...</td>\n      <td>...</td>\n      <td>...</td>\n      <td>...</td>\n      <td>...</td>\n      <td>...</td>\n      <td>...</td>\n      <td>...</td>\n      <td>...</td>\n      <td>...</td>\n      <td>...</td>\n      <td>...</td>\n    </tr>\n    <tr>\n      <th>6492</th>\n      <td>white</td>\n      <td>6.2</td>\n      <td>0.21</td>\n      <td>0.29</td>\n      <td>1.6</td>\n      <td>0.039</td>\n      <td>24.0</td>\n      <td>92.0</td>\n      <td>0.99114</td>\n      <td>3.27</td>\n      <td>0.50</td>\n      <td>11.2</td>\n      <td>6</td>\n      <td>Average</td>\n    </tr>\n    <tr>\n      <th>6493</th>\n      <td>white</td>\n      <td>6.6</td>\n      <td>0.32</td>\n      <td>0.36</td>\n      <td>8.0</td>\n      <td>0.047</td>\n      <td>57.0</td>\n      <td>168.0</td>\n      <td>0.99490</td>\n      <td>3.15</td>\n      <td>0.46</td>\n      <td>9.6</td>\n      <td>5</td>\n      <td>Below Average</td>\n    </tr>\n    <tr>\n      <th>6494</th>\n      <td>white</td>\n      <td>6.5</td>\n      <td>0.24</td>\n      <td>0.19</td>\n      <td>1.2</td>\n      <td>0.041</td>\n      <td>30.0</td>\n      <td>111.0</td>\n      <td>0.99254</td>\n      <td>2.99</td>\n      <td>0.46</td>\n      <td>9.4</td>\n      <td>6</td>\n      <td>Average</td>\n    </tr>\n    <tr>\n      <th>6495</th>\n      <td>white</td>\n      <td>5.5</td>\n      <td>0.29</td>\n      <td>0.30</td>\n      <td>1.1</td>\n      <td>0.022</td>\n      <td>20.0</td>\n      <td>110.0</td>\n      <td>0.98869</td>\n      <td>3.34</td>\n      <td>0.38</td>\n      <td>12.8</td>\n      <td>7</td>\n      <td>Above Average</td>\n    </tr>\n    <tr>\n      <th>6496</th>\n      <td>white</td>\n      <td>6.0</td>\n      <td>0.21</td>\n      <td>0.38</td>\n      <td>0.8</td>\n      <td>0.020</td>\n      <td>22.0</td>\n      <td>98.0</td>\n      <td>0.98941</td>\n      <td>3.26</td>\n      <td>0.32</td>\n      <td>11.8</td>\n      <td>6</td>\n      <td>Average</td>\n    </tr>\n  </tbody>\n</table>\n<p>6497 rows × 14 columns</p>\n</div>"
     },
     "metadata": {},
     "execution_count": 12
    }
   ],
   "source": [
    "## Test import\n",
    "pd.read_csv('wine_quality.csv')"
   ]
  },
  {
   "cell_type": "code",
   "execution_count": null,
   "metadata": {},
   "outputs": [],
   "source": []
  }
 ],
 "metadata": {
  "kernelspec": {
   "display_name": "Python 3",
   "language": "python",
   "name": "python3"
  },
  "language_info": {
   "codemirror_mode": {
    "name": "ipython",
    "version": 3
   },
   "file_extension": ".py",
   "mimetype": "text/x-python",
   "name": "python",
   "nbconvert_exporter": "python",
   "pygments_lexer": "ipython3",
   "version": "3.8.3-final"
  }
 },
 "nbformat": 4,
 "nbformat_minor": 4
}
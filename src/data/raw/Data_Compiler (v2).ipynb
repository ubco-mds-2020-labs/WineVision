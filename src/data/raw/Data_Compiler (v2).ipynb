{
 "cells": [
  {
   "cell_type": "code",
   "execution_count": 1,
   "metadata": {},
   "outputs": [],
   "source": [
    "import pandas as pd, numpy as np"
   ]
  },
  {
   "cell_type": "code",
   "execution_count": 2,
   "metadata": {},
   "outputs": [],
   "source": [
    "## Import raw data\n",
    "\n",
    "df_red = pd.read_csv('winequality-red.csv', sep = ';')\n",
    "df_white = pd.read_csv('winequality-white.csv', sep = ';')"
   ]
  },
  {
   "cell_type": "code",
   "execution_count": 3,
   "metadata": {},
   "outputs": [
    {
     "output_type": "stream",
     "name": "stdout",
     "text": [
      "<class 'pandas.core.frame.DataFrame'>\nRangeIndex: 1599 entries, 0 to 1598\nData columns (total 13 columns):\n #   Column                Non-Null Count  Dtype  \n---  ------                --------------  -----  \n 0   fixed acidity         1599 non-null   float64\n 1   volatile acidity      1599 non-null   float64\n 2   citric acid           1599 non-null   float64\n 3   residual sugar        1599 non-null   float64\n 4   chlorides             1599 non-null   float64\n 5   free sulfur dioxide   1599 non-null   float64\n 6   total sulfur dioxide  1599 non-null   float64\n 7   density               1599 non-null   float64\n 8   pH                    1599 non-null   float64\n 9   sulphates             1599 non-null   float64\n 10  alcohol               1599 non-null   float64\n 11  quality               1599 non-null   int64  \n 12  wine                  1599 non-null   object \ndtypes: float64(11), int64(1), object(1)\nmemory usage: 162.5+ KB\n"
     ]
    }
   ],
   "source": [
    "## Check length of raw data\n",
    "\n",
    "df_red['wine'] = 'red'\n",
    "df_red.info()"
   ]
  },
  {
   "cell_type": "code",
   "execution_count": 4,
   "metadata": {},
   "outputs": [
    {
     "output_type": "stream",
     "name": "stdout",
     "text": [
      "<class 'pandas.core.frame.DataFrame'>\nRangeIndex: 4898 entries, 0 to 4897\nData columns (total 13 columns):\n #   Column                Non-Null Count  Dtype  \n---  ------                --------------  -----  \n 0   fixed acidity         4898 non-null   float64\n 1   volatile acidity      4898 non-null   float64\n 2   citric acid           4898 non-null   float64\n 3   residual sugar        4898 non-null   float64\n 4   chlorides             4898 non-null   float64\n 5   free sulfur dioxide   4898 non-null   float64\n 6   total sulfur dioxide  4898 non-null   float64\n 7   density               4898 non-null   float64\n 8   pH                    4898 non-null   float64\n 9   sulphates             4898 non-null   float64\n 10  alcohol               4898 non-null   float64\n 11  quality               4898 non-null   int64  \n 12  wine                  4898 non-null   object \ndtypes: float64(11), int64(1), object(1)\nmemory usage: 497.6+ KB\n"
     ]
    }
   ],
   "source": [
    "## Check length of raw data\n",
    "\n",
    "df_white['wine'] = 'white'\n",
    "df_white.info()"
   ]
  },
  {
   "cell_type": "code",
   "execution_count": 8,
   "metadata": {},
   "outputs": [
    {
     "output_type": "stream",
     "name": "stdout",
     "text": [
      "<class 'pandas.core.frame.DataFrame'>\nInt64Index: 6497 entries, 0 to 4897\nData columns (total 14 columns):\n #   Column                Non-Null Count  Dtype  \n---  ------                --------------  -----  \n 0   Wine                  6497 non-null   object \n 1   Fixed Acidity         6497 non-null   float64\n 2   Volatile Acidity      6497 non-null   float64\n 3   Citric Acid           6497 non-null   float64\n 4   Residual Sugar        6497 non-null   float64\n 5   Chlorides             6497 non-null   float64\n 6   Free Sulfur Dioxide   6497 non-null   float64\n 7   Total Sulfur Dioxide  6497 non-null   float64\n 8   Density               6497 non-null   float64\n 9   pH                    6497 non-null   float64\n 10  Sulphates             6497 non-null   float64\n 11  Alcohol               6497 non-null   float64\n 12  Quality               6497 non-null   int64  \n 13  Quality Factor        6497 non-null   object \ndtypes: float64(11), int64(1), object(2)\nmemory usage: 761.4+ KB\n"
     ]
    }
   ],
   "source": [
    "## Merging data frames\n",
    "wine_quality = pd.concat([df_red, df_white])\n",
    "\n",
    "## Adding final relative quality column\n",
    "wine_quality['quality factor'] = wine_quality['quality'].apply(lambda x: 'Below Average' if x < 6 \n",
    "                                                              else ('Above Average' if x > 6 else 'Average'))\n",
    "\n",
    "## Reorganizing columns\n",
    "cols = ['wine','fixed acidity','volatile acidity','citric acid','residual sugar','chlorides','free sulfur dioxide','total sulfur dioxide','density','pH','sulphates','alcohol','quality','quality factor']\n",
    "wine_quality = wine_quality[cols]\n",
    "wine_quality.columns = map(str.title, wine_quality.columns)\n",
    "wine_quality = wine_quality.rename(columns={\"Ph\": \"pH\"})\n",
    "\n",
    "## Check length of new data (6497 = 4898 + 1599 )\n",
    "wine_quality.info()"
   ]
  },
  {
   "cell_type": "code",
   "execution_count": 9,
   "metadata": {},
   "outputs": [
    {
     "output_type": "execute_result",
     "data": {
      "text/plain": [
       "       Wine  Fixed Acidity  Volatile Acidity  Citric Acid  Residual Sugar  \\\n",
       "3811  white            7.2              0.28         0.38             2.0   \n",
       "2262  white            8.5              0.25         0.31             2.8   \n",
       "1896  white            7.5              0.29         0.67             8.1   \n",
       "4705  white            5.7              0.27         0.16             9.0   \n",
       "377     red            9.4              0.27         0.53             2.4   \n",
       "106     red            7.8              0.41         0.68             1.7   \n",
       "2355  white            7.6              0.48         0.33             7.0   \n",
       "572     red           10.2              0.24         0.49             2.4   \n",
       "\n",
       "      Chlorides  Free Sulfur Dioxide  Total Sulfur Dioxide  Density    pH  \\\n",
       "3811      0.052                 23.0                 156.0  0.99120  3.13   \n",
       "2262      0.032                 11.0                  61.0  0.99189  3.06   \n",
       "1896      0.037                 53.0                 166.0  0.99660  2.90   \n",
       "4705      0.053                 32.0                 111.0  0.99474  3.36   \n",
       "377       0.074                  6.0                  18.0  0.99620  3.20   \n",
       "106       0.467                 18.0                  69.0  0.99730  3.08   \n",
       "2355      0.024                 14.0                 130.0  0.99180  3.25   \n",
       "572       0.075                 10.0                  28.0  0.99780  3.14   \n",
       "\n",
       "      Sulphates  Alcohol  Quality Quality Factor  \n",
       "3811       0.52     11.1        5  Below Average  \n",
       "2262       0.44     11.5        6        Average  \n",
       "1896       0.41      8.9        6        Average  \n",
       "4705       0.37     10.4        6        Average  \n",
       "377        1.13     12.0        7  Above Average  \n",
       "106        1.31      9.3        5  Below Average  \n",
       "2355       0.45     12.5        7  Above Average  \n",
       "572        0.61     10.4        5  Below Average  "
      ],
      "text/html": "<div>\n<style scoped>\n    .dataframe tbody tr th:only-of-type {\n        vertical-align: middle;\n    }\n\n    .dataframe tbody tr th {\n        vertical-align: top;\n    }\n\n    .dataframe thead th {\n        text-align: right;\n    }\n</style>\n<table border=\"1\" class=\"dataframe\">\n  <thead>\n    <tr style=\"text-align: right;\">\n      <th></th>\n      <th>Wine</th>\n      <th>Fixed Acidity</th>\n      <th>Volatile Acidity</th>\n      <th>Citric Acid</th>\n      <th>Residual Sugar</th>\n      <th>Chlorides</th>\n      <th>Free Sulfur Dioxide</th>\n      <th>Total Sulfur Dioxide</th>\n      <th>Density</th>\n      <th>pH</th>\n      <th>Sulphates</th>\n      <th>Alcohol</th>\n      <th>Quality</th>\n      <th>Quality Factor</th>\n    </tr>\n  </thead>\n  <tbody>\n    <tr>\n      <th>3811</th>\n      <td>white</td>\n      <td>7.2</td>\n      <td>0.28</td>\n      <td>0.38</td>\n      <td>2.0</td>\n      <td>0.052</td>\n      <td>23.0</td>\n      <td>156.0</td>\n      <td>0.99120</td>\n      <td>3.13</td>\n      <td>0.52</td>\n      <td>11.1</td>\n      <td>5</td>\n      <td>Below Average</td>\n    </tr>\n    <tr>\n      <th>2262</th>\n      <td>white</td>\n      <td>8.5</td>\n      <td>0.25</td>\n      <td>0.31</td>\n      <td>2.8</td>\n      <td>0.032</td>\n      <td>11.0</td>\n      <td>61.0</td>\n      <td>0.99189</td>\n      <td>3.06</td>\n      <td>0.44</td>\n      <td>11.5</td>\n      <td>6</td>\n      <td>Average</td>\n    </tr>\n    <tr>\n      <th>1896</th>\n      <td>white</td>\n      <td>7.5</td>\n      <td>0.29</td>\n      <td>0.67</td>\n      <td>8.1</td>\n      <td>0.037</td>\n      <td>53.0</td>\n      <td>166.0</td>\n      <td>0.99660</td>\n      <td>2.90</td>\n      <td>0.41</td>\n      <td>8.9</td>\n      <td>6</td>\n      <td>Average</td>\n    </tr>\n    <tr>\n      <th>4705</th>\n      <td>white</td>\n      <td>5.7</td>\n      <td>0.27</td>\n      <td>0.16</td>\n      <td>9.0</td>\n      <td>0.053</td>\n      <td>32.0</td>\n      <td>111.0</td>\n      <td>0.99474</td>\n      <td>3.36</td>\n      <td>0.37</td>\n      <td>10.4</td>\n      <td>6</td>\n      <td>Average</td>\n    </tr>\n    <tr>\n      <th>377</th>\n      <td>red</td>\n      <td>9.4</td>\n      <td>0.27</td>\n      <td>0.53</td>\n      <td>2.4</td>\n      <td>0.074</td>\n      <td>6.0</td>\n      <td>18.0</td>\n      <td>0.99620</td>\n      <td>3.20</td>\n      <td>1.13</td>\n      <td>12.0</td>\n      <td>7</td>\n      <td>Above Average</td>\n    </tr>\n    <tr>\n      <th>106</th>\n      <td>red</td>\n      <td>7.8</td>\n      <td>0.41</td>\n      <td>0.68</td>\n      <td>1.7</td>\n      <td>0.467</td>\n      <td>18.0</td>\n      <td>69.0</td>\n      <td>0.99730</td>\n      <td>3.08</td>\n      <td>1.31</td>\n      <td>9.3</td>\n      <td>5</td>\n      <td>Below Average</td>\n    </tr>\n    <tr>\n      <th>2355</th>\n      <td>white</td>\n      <td>7.6</td>\n      <td>0.48</td>\n      <td>0.33</td>\n      <td>7.0</td>\n      <td>0.024</td>\n      <td>14.0</td>\n      <td>130.0</td>\n      <td>0.99180</td>\n      <td>3.25</td>\n      <td>0.45</td>\n      <td>12.5</td>\n      <td>7</td>\n      <td>Above Average</td>\n    </tr>\n    <tr>\n      <th>572</th>\n      <td>red</td>\n      <td>10.2</td>\n      <td>0.24</td>\n      <td>0.49</td>\n      <td>2.4</td>\n      <td>0.075</td>\n      <td>10.0</td>\n      <td>28.0</td>\n      <td>0.99780</td>\n      <td>3.14</td>\n      <td>0.61</td>\n      <td>10.4</td>\n      <td>5</td>\n      <td>Below Average</td>\n    </tr>\n  </tbody>\n</table>\n</div>"
     },
     "metadata": {},
     "execution_count": 9
    }
   ],
   "source": [
    "## Last check on df structure\n",
    "wine_quality.sample(8)"
   ]
  },
  {
   "cell_type": "code",
   "execution_count": 16,
   "metadata": {},
   "outputs": [],
   "source": [
    "## Export\n",
    "wine_quality.to_csv('wine_quality.csv', index=False)"
   ]
  },
  {
   "cell_type": "code",
   "execution_count": 17,
   "metadata": {},
   "outputs": [
    {
     "output_type": "execute_result",
     "data": {
      "text/plain": [
       "       Wine  Fixed Acidity  Volatile Acidity  Citric Acid  Residual Sugar  \\\n",
       "0       red            7.4              0.70         0.00             1.9   \n",
       "1       red            7.8              0.88         0.00             2.6   \n",
       "2       red            7.8              0.76         0.04             2.3   \n",
       "3       red           11.2              0.28         0.56             1.9   \n",
       "4       red            7.4              0.70         0.00             1.9   \n",
       "...     ...            ...               ...          ...             ...   \n",
       "6492  white            6.2              0.21         0.29             1.6   \n",
       "6493  white            6.6              0.32         0.36             8.0   \n",
       "6494  white            6.5              0.24         0.19             1.2   \n",
       "6495  white            5.5              0.29         0.30             1.1   \n",
       "6496  white            6.0              0.21         0.38             0.8   \n",
       "\n",
       "      Chlorides  Free Sulfur Dioxide  Total Sulfur Dioxide  Density    pH  \\\n",
       "0         0.076                 11.0                  34.0  0.99780  3.51   \n",
       "1         0.098                 25.0                  67.0  0.99680  3.20   \n",
       "2         0.092                 15.0                  54.0  0.99700  3.26   \n",
       "3         0.075                 17.0                  60.0  0.99800  3.16   \n",
       "4         0.076                 11.0                  34.0  0.99780  3.51   \n",
       "...         ...                  ...                   ...      ...   ...   \n",
       "6492      0.039                 24.0                  92.0  0.99114  3.27   \n",
       "6493      0.047                 57.0                 168.0  0.99490  3.15   \n",
       "6494      0.041                 30.0                 111.0  0.99254  2.99   \n",
       "6495      0.022                 20.0                 110.0  0.98869  3.34   \n",
       "6496      0.020                 22.0                  98.0  0.98941  3.26   \n",
       "\n",
       "      Sulphates  Alcohol  Quality Quality Factor  \n",
       "0          0.56      9.4        5  Below Average  \n",
       "1          0.68      9.8        5  Below Average  \n",
       "2          0.65      9.8        5  Below Average  \n",
       "3          0.58      9.8        6        Average  \n",
       "4          0.56      9.4        5  Below Average  \n",
       "...         ...      ...      ...            ...  \n",
       "6492       0.50     11.2        6        Average  \n",
       "6493       0.46      9.6        5  Below Average  \n",
       "6494       0.46      9.4        6        Average  \n",
       "6495       0.38     12.8        7  Above Average  \n",
       "6496       0.32     11.8        6        Average  \n",
       "\n",
       "[6497 rows x 14 columns]"
      ],
      "text/html": "<div>\n<style scoped>\n    .dataframe tbody tr th:only-of-type {\n        vertical-align: middle;\n    }\n\n    .dataframe tbody tr th {\n        vertical-align: top;\n    }\n\n    .dataframe thead th {\n        text-align: right;\n    }\n</style>\n<table border=\"1\" class=\"dataframe\">\n  <thead>\n    <tr style=\"text-align: right;\">\n      <th></th>\n      <th>Wine</th>\n      <th>Fixed Acidity</th>\n      <th>Volatile Acidity</th>\n      <th>Citric Acid</th>\n      <th>Residual Sugar</th>\n      <th>Chlorides</th>\n      <th>Free Sulfur Dioxide</th>\n      <th>Total Sulfur Dioxide</th>\n      <th>Density</th>\n      <th>pH</th>\n      <th>Sulphates</th>\n      <th>Alcohol</th>\n      <th>Quality</th>\n      <th>Quality Factor</th>\n    </tr>\n  </thead>\n  <tbody>\n    <tr>\n      <th>0</th>\n      <td>red</td>\n      <td>7.4</td>\n      <td>0.70</td>\n      <td>0.00</td>\n      <td>1.9</td>\n      <td>0.076</td>\n      <td>11.0</td>\n      <td>34.0</td>\n      <td>0.99780</td>\n      <td>3.51</td>\n      <td>0.56</td>\n      <td>9.4</td>\n      <td>5</td>\n      <td>Below Average</td>\n    </tr>\n    <tr>\n      <th>1</th>\n      <td>red</td>\n      <td>7.8</td>\n      <td>0.88</td>\n      <td>0.00</td>\n      <td>2.6</td>\n      <td>0.098</td>\n      <td>25.0</td>\n      <td>67.0</td>\n      <td>0.99680</td>\n      <td>3.20</td>\n      <td>0.68</td>\n      <td>9.8</td>\n      <td>5</td>\n      <td>Below Average</td>\n    </tr>\n    <tr>\n      <th>2</th>\n      <td>red</td>\n      <td>7.8</td>\n      <td>0.76</td>\n      <td>0.04</td>\n      <td>2.3</td>\n      <td>0.092</td>\n      <td>15.0</td>\n      <td>54.0</td>\n      <td>0.99700</td>\n      <td>3.26</td>\n      <td>0.65</td>\n      <td>9.8</td>\n      <td>5</td>\n      <td>Below Average</td>\n    </tr>\n    <tr>\n      <th>3</th>\n      <td>red</td>\n      <td>11.2</td>\n      <td>0.28</td>\n      <td>0.56</td>\n      <td>1.9</td>\n      <td>0.075</td>\n      <td>17.0</td>\n      <td>60.0</td>\n      <td>0.99800</td>\n      <td>3.16</td>\n      <td>0.58</td>\n      <td>9.8</td>\n      <td>6</td>\n      <td>Average</td>\n    </tr>\n    <tr>\n      <th>4</th>\n      <td>red</td>\n      <td>7.4</td>\n      <td>0.70</td>\n      <td>0.00</td>\n      <td>1.9</td>\n      <td>0.076</td>\n      <td>11.0</td>\n      <td>34.0</td>\n      <td>0.99780</td>\n      <td>3.51</td>\n      <td>0.56</td>\n      <td>9.4</td>\n      <td>5</td>\n      <td>Below Average</td>\n    </tr>\n    <tr>\n      <th>...</th>\n      <td>...</td>\n      <td>...</td>\n      <td>...</td>\n      <td>...</td>\n      <td>...</td>\n      <td>...</td>\n      <td>...</td>\n      <td>...</td>\n      <td>...</td>\n      <td>...</td>\n      <td>...</td>\n      <td>...</td>\n      <td>...</td>\n      <td>...</td>\n    </tr>\n    <tr>\n      <th>6492</th>\n      <td>white</td>\n      <td>6.2</td>\n      <td>0.21</td>\n      <td>0.29</td>\n      <td>1.6</td>\n      <td>0.039</td>\n      <td>24.0</td>\n      <td>92.0</td>\n      <td>0.99114</td>\n      <td>3.27</td>\n      <td>0.50</td>\n      <td>11.2</td>\n      <td>6</td>\n      <td>Average</td>\n    </tr>\n    <tr>\n      <th>6493</th>\n      <td>white</td>\n      <td>6.6</td>\n      <td>0.32</td>\n      <td>0.36</td>\n      <td>8.0</td>\n      <td>0.047</td>\n      <td>57.0</td>\n      <td>168.0</td>\n      <td>0.99490</td>\n      <td>3.15</td>\n      <td>0.46</td>\n      <td>9.6</td>\n      <td>5</td>\n      <td>Below Average</td>\n    </tr>\n    <tr>\n      <th>6494</th>\n      <td>white</td>\n      <td>6.5</td>\n      <td>0.24</td>\n      <td>0.19</td>\n      <td>1.2</td>\n      <td>0.041</td>\n      <td>30.0</td>\n      <td>111.0</td>\n      <td>0.99254</td>\n      <td>2.99</td>\n      <td>0.46</td>\n      <td>9.4</td>\n      <td>6</td>\n      <td>Average</td>\n    </tr>\n    <tr>\n      <th>6495</th>\n      <td>white</td>\n      <td>5.5</td>\n      <td>0.29</td>\n      <td>0.30</td>\n      <td>1.1</td>\n      <td>0.022</td>\n      <td>20.0</td>\n      <td>110.0</td>\n      <td>0.98869</td>\n      <td>3.34</td>\n      <td>0.38</td>\n      <td>12.8</td>\n      <td>7</td>\n      <td>Above Average</td>\n    </tr>\n    <tr>\n      <th>6496</th>\n      <td>white</td>\n      <td>6.0</td>\n      <td>0.21</td>\n      <td>0.38</td>\n      <td>0.8</td>\n      <td>0.020</td>\n      <td>22.0</td>\n      <td>98.0</td>\n      <td>0.98941</td>\n      <td>3.26</td>\n      <td>0.32</td>\n      <td>11.8</td>\n      <td>6</td>\n      <td>Average</td>\n    </tr>\n  </tbody>\n</table>\n<p>6497 rows × 14 columns</p>\n</div>"
     },
     "metadata": {},
     "execution_count": 17
    }
   ],
   "source": [
    "## Test import\n",
    "pd.read_csv('wine_quality.csv')"
   ]
  },
  {
   "cell_type": "code",
   "execution_count": 10,
   "metadata": {},
   "outputs": [],
   "source": [
    "# Data wrangling for correlation plot\n",
    "wine = wine_quality #This is the naming convention I had in my work and didn't want to change it\n",
    "# Get correlations for each wine type\n",
    "corr_df_white = wine.loc[wine['Wine'] == 'white'].select_dtypes('number').corr('spearman').stack().reset_index(name='corr')\n",
    "corr_df_white[\"Wine\"] = \"white\"\n",
    "\n",
    "corr_df_red = wine.loc[wine['Wine'] == 'red'].select_dtypes('number').corr('spearman').stack().reset_index(name='corr')\n",
    "corr_df_red[\"Wine\"] = \"red\"\n",
    "\n",
    "# Bind them together\n",
    "corr_df = corr_df_white.append(corr_df_red)\n",
    "corr_df[\"Quality Factor\"] = 3 # For all qualities\n",
    "\n",
    "# Subset by quality and for each and bind\n",
    "for i in [0,1,2]:\n",
    "    #Create white df at ith quality\n",
    "    corr_df_white = wine.loc[(wine['Wine'] == 'white') & (wine[\"Quality Factor\"] == i)].select_dtypes('number').corr('spearman').stack().reset_index(name='corr')\n",
    "    corr_df_white[\"Wine\"] = \"white\"\n",
    "    corr_df_white[\"Quality Factor\"] = i\n",
    "    #create red df at ith quality\n",
    "    corr_df_red = wine.loc[(wine['Wine'] == 'red') & (wine[\"Quality Factor\"] == i)].select_dtypes('number').corr('spearman').stack().reset_index(name='corr')\n",
    "    corr_df_red[\"Wine\"] = \"red\"\n",
    "    corr_df_red[\"Quality Factor\"] = i\n",
    "    # bind to main df\n",
    "    corr_df = corr_df.append(corr_df_red)\n",
    "    corr_df = corr_df.append(corr_df_white)"
   ]
  },
  {
   "cell_type": "code",
   "execution_count": 13,
   "metadata": {},
   "outputs": [
    {
     "output_type": "execute_result",
     "data": {
      "text/plain": [
       "                 level_0               level_1      corr   Wine  \\\n",
       "113            Sulphates   Free Sulfur Dioxide  0.052252  white   \n",
       "2          Fixed Acidity           Citric Acid  0.297878  white   \n",
       "91               Density               Density  1.000000  white   \n",
       "19      Volatile Acidity               Density  0.025014    red   \n",
       "114            Sulphates  Total Sulfur Dioxide  0.157825  white   \n",
       "117            Sulphates             Sulphates  1.000000  white   \n",
       "3          Fixed Acidity        Residual Sugar  0.106725  white   \n",
       "141              Quality             Sulphates  0.377060    red   \n",
       "52             Chlorides             Chlorides  1.000000  white   \n",
       "63   Free Sulfur Dioxide        Residual Sugar  0.346107  white   \n",
       "\n",
       "     Quality Factor  \n",
       "113               3  \n",
       "2                 3  \n",
       "91                3  \n",
       "19                3  \n",
       "114               3  \n",
       "117               3  \n",
       "3                 3  \n",
       "141               3  \n",
       "52                3  \n",
       "63                3  "
      ],
      "text/html": "<div>\n<style scoped>\n    .dataframe tbody tr th:only-of-type {\n        vertical-align: middle;\n    }\n\n    .dataframe tbody tr th {\n        vertical-align: top;\n    }\n\n    .dataframe thead th {\n        text-align: right;\n    }\n</style>\n<table border=\"1\" class=\"dataframe\">\n  <thead>\n    <tr style=\"text-align: right;\">\n      <th></th>\n      <th>level_0</th>\n      <th>level_1</th>\n      <th>corr</th>\n      <th>Wine</th>\n      <th>Quality Factor</th>\n    </tr>\n  </thead>\n  <tbody>\n    <tr>\n      <th>113</th>\n      <td>Sulphates</td>\n      <td>Free Sulfur Dioxide</td>\n      <td>0.052252</td>\n      <td>white</td>\n      <td>3</td>\n    </tr>\n    <tr>\n      <th>2</th>\n      <td>Fixed Acidity</td>\n      <td>Citric Acid</td>\n      <td>0.297878</td>\n      <td>white</td>\n      <td>3</td>\n    </tr>\n    <tr>\n      <th>91</th>\n      <td>Density</td>\n      <td>Density</td>\n      <td>1.000000</td>\n      <td>white</td>\n      <td>3</td>\n    </tr>\n    <tr>\n      <th>19</th>\n      <td>Volatile Acidity</td>\n      <td>Density</td>\n      <td>0.025014</td>\n      <td>red</td>\n      <td>3</td>\n    </tr>\n    <tr>\n      <th>114</th>\n      <td>Sulphates</td>\n      <td>Total Sulfur Dioxide</td>\n      <td>0.157825</td>\n      <td>white</td>\n      <td>3</td>\n    </tr>\n    <tr>\n      <th>117</th>\n      <td>Sulphates</td>\n      <td>Sulphates</td>\n      <td>1.000000</td>\n      <td>white</td>\n      <td>3</td>\n    </tr>\n    <tr>\n      <th>3</th>\n      <td>Fixed Acidity</td>\n      <td>Residual Sugar</td>\n      <td>0.106725</td>\n      <td>white</td>\n      <td>3</td>\n    </tr>\n    <tr>\n      <th>141</th>\n      <td>Quality</td>\n      <td>Sulphates</td>\n      <td>0.377060</td>\n      <td>red</td>\n      <td>3</td>\n    </tr>\n    <tr>\n      <th>52</th>\n      <td>Chlorides</td>\n      <td>Chlorides</td>\n      <td>1.000000</td>\n      <td>white</td>\n      <td>3</td>\n    </tr>\n    <tr>\n      <th>63</th>\n      <td>Free Sulfur Dioxide</td>\n      <td>Residual Sugar</td>\n      <td>0.346107</td>\n      <td>white</td>\n      <td>3</td>\n    </tr>\n  </tbody>\n</table>\n</div>"
     },
     "metadata": {},
     "execution_count": 13
    }
   ],
   "source": [
    "corr_df.sample(10)"
   ]
  },
  {
   "cell_type": "code",
   "execution_count": 15,
   "metadata": {},
   "outputs": [],
   "source": [
    "corr_df.to_csv('correlation.csv', index=False)"
   ]
  },
  {
   "cell_type": "code",
   "execution_count": null,
   "metadata": {},
   "outputs": [],
   "source": []
  }
 ],
 "metadata": {
  "kernelspec": {
   "display_name": "Python 3",
   "language": "python",
   "name": "python3"
  },
  "language_info": {
   "codemirror_mode": {
    "name": "ipython",
    "version": 3
   },
   "file_extension": ".py",
   "mimetype": "text/x-python",
   "name": "python",
   "nbconvert_exporter": "python",
   "pygments_lexer": "ipython3",
   "version": "3.8.5-final"
  }
 },
 "nbformat": 4,
 "nbformat_minor": 4
}
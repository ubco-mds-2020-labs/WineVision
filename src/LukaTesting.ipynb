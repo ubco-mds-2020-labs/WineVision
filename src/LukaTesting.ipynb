{
 "cells": [
  {
   "cell_type": "code",
   "execution_count": 5,
   "metadata": {},
   "outputs": [],
   "source": [
    "import numpy as np\n",
    "import pandas as pd\n",
    "import altair as alt\n",
    "\n",
    "alt.data_transformers.enable('data_server')\n",
    "\n",
    "wine = pd.read_csv('../data/processed/wine_quality.csv')"
   ]
  },
  {
   "cell_type": "code",
   "execution_count": 6,
   "metadata": {},
   "outputs": [
    {
     "output_type": "execute_result",
     "data": {
      "text/plain": [
       "       Wine  Fixed Acidity (g/dm^3)  Volatile Acidity (g/dm^3)  \\\n",
       "0       red                     7.4                       0.70   \n",
       "1       red                     7.8                       0.88   \n",
       "2       red                     7.8                       0.76   \n",
       "3       red                    11.2                       0.28   \n",
       "4       red                     7.4                       0.70   \n",
       "...     ...                     ...                        ...   \n",
       "6489  white                     6.2                       0.21   \n",
       "6490  white                     6.6                       0.32   \n",
       "6491  white                     6.5                       0.24   \n",
       "6492  white                     5.5                       0.29   \n",
       "6493  white                     6.0                       0.21   \n",
       "\n",
       "      Citric Acid (g/dm^3)  Residual Sugar (g/dm^3)  Chlorides (g/dm^3)  \\\n",
       "0                     0.00                      1.9               0.076   \n",
       "1                     0.00                      2.6               0.098   \n",
       "2                     0.04                      2.3               0.092   \n",
       "3                     0.56                      1.9               0.075   \n",
       "4                     0.00                      1.9               0.076   \n",
       "...                    ...                      ...                 ...   \n",
       "6489                  0.29                      1.6               0.039   \n",
       "6490                  0.36                      8.0               0.047   \n",
       "6491                  0.19                      1.2               0.041   \n",
       "6492                  0.30                      1.1               0.022   \n",
       "6493                  0.38                      0.8               0.020   \n",
       "\n",
       "      Free Sulfur Dioxide (mg/dm^3)  Total Sulfur Dioxide (mg/dm^3)  \\\n",
       "0                              11.0                            34.0   \n",
       "1                              25.0                            67.0   \n",
       "2                              15.0                            54.0   \n",
       "3                              17.0                            60.0   \n",
       "4                              11.0                            34.0   \n",
       "...                             ...                             ...   \n",
       "6489                           24.0                            92.0   \n",
       "6490                           57.0                           168.0   \n",
       "6491                           30.0                           111.0   \n",
       "6492                           20.0                           110.0   \n",
       "6493                           22.0                            98.0   \n",
       "\n",
       "      Density (g/cm^3)    pH  Sulphates (g/dm^3)  Alcohol (%)  Quality  \\\n",
       "0              0.99780  3.51                0.56          9.4        5   \n",
       "1              0.99680  3.20                0.68          9.8        5   \n",
       "2              0.99700  3.26                0.65          9.8        5   \n",
       "3              0.99800  3.16                0.58          9.8        6   \n",
       "4              0.99780  3.51                0.56          9.4        5   \n",
       "...                ...   ...                 ...          ...      ...   \n",
       "6489           0.99114  3.27                0.50         11.2        6   \n",
       "6490           0.99490  3.15                0.46          9.6        5   \n",
       "6491           0.99254  2.99                0.46          9.4        6   \n",
       "6492           0.98869  3.34                0.38         12.8        7   \n",
       "6493           0.98941  3.26                0.32         11.8        6   \n",
       "\n",
       "     Quality Factor  Quality Factor Numeric  \n",
       "0     Below Average                       0  \n",
       "1     Below Average                       0  \n",
       "2     Below Average                       0  \n",
       "3           Average                       2  \n",
       "4     Below Average                       0  \n",
       "...             ...                     ...  \n",
       "6489        Average                       2  \n",
       "6490  Below Average                       0  \n",
       "6491        Average                       2  \n",
       "6492  Above Average                       1  \n",
       "6493        Average                       2  \n",
       "\n",
       "[6494 rows x 15 columns]"
      ],
      "text/html": "<div>\n<style scoped>\n    .dataframe tbody tr th:only-of-type {\n        vertical-align: middle;\n    }\n\n    .dataframe tbody tr th {\n        vertical-align: top;\n    }\n\n    .dataframe thead th {\n        text-align: right;\n    }\n</style>\n<table border=\"1\" class=\"dataframe\">\n  <thead>\n    <tr style=\"text-align: right;\">\n      <th></th>\n      <th>Wine</th>\n      <th>Fixed Acidity (g/dm^3)</th>\n      <th>Volatile Acidity (g/dm^3)</th>\n      <th>Citric Acid (g/dm^3)</th>\n      <th>Residual Sugar (g/dm^3)</th>\n      <th>Chlorides (g/dm^3)</th>\n      <th>Free Sulfur Dioxide (mg/dm^3)</th>\n      <th>Total Sulfur Dioxide (mg/dm^3)</th>\n      <th>Density (g/cm^3)</th>\n      <th>pH</th>\n      <th>Sulphates (g/dm^3)</th>\n      <th>Alcohol (%)</th>\n      <th>Quality</th>\n      <th>Quality Factor</th>\n      <th>Quality Factor Numeric</th>\n    </tr>\n  </thead>\n  <tbody>\n    <tr>\n      <th>0</th>\n      <td>red</td>\n      <td>7.4</td>\n      <td>0.70</td>\n      <td>0.00</td>\n      <td>1.9</td>\n      <td>0.076</td>\n      <td>11.0</td>\n      <td>34.0</td>\n      <td>0.99780</td>\n      <td>3.51</td>\n      <td>0.56</td>\n      <td>9.4</td>\n      <td>5</td>\n      <td>Below Average</td>\n      <td>0</td>\n    </tr>\n    <tr>\n      <th>1</th>\n      <td>red</td>\n      <td>7.8</td>\n      <td>0.88</td>\n      <td>0.00</td>\n      <td>2.6</td>\n      <td>0.098</td>\n      <td>25.0</td>\n      <td>67.0</td>\n      <td>0.99680</td>\n      <td>3.20</td>\n      <td>0.68</td>\n      <td>9.8</td>\n      <td>5</td>\n      <td>Below Average</td>\n      <td>0</td>\n    </tr>\n    <tr>\n      <th>2</th>\n      <td>red</td>\n      <td>7.8</td>\n      <td>0.76</td>\n      <td>0.04</td>\n      <td>2.3</td>\n      <td>0.092</td>\n      <td>15.0</td>\n      <td>54.0</td>\n      <td>0.99700</td>\n      <td>3.26</td>\n      <td>0.65</td>\n      <td>9.8</td>\n      <td>5</td>\n      <td>Below Average</td>\n      <td>0</td>\n    </tr>\n    <tr>\n      <th>3</th>\n      <td>red</td>\n      <td>11.2</td>\n      <td>0.28</td>\n      <td>0.56</td>\n      <td>1.9</td>\n      <td>0.075</td>\n      <td>17.0</td>\n      <td>60.0</td>\n      <td>0.99800</td>\n      <td>3.16</td>\n      <td>0.58</td>\n      <td>9.8</td>\n      <td>6</td>\n      <td>Average</td>\n      <td>2</td>\n    </tr>\n    <tr>\n      <th>4</th>\n      <td>red</td>\n      <td>7.4</td>\n      <td>0.70</td>\n      <td>0.00</td>\n      <td>1.9</td>\n      <td>0.076</td>\n      <td>11.0</td>\n      <td>34.0</td>\n      <td>0.99780</td>\n      <td>3.51</td>\n      <td>0.56</td>\n      <td>9.4</td>\n      <td>5</td>\n      <td>Below Average</td>\n      <td>0</td>\n    </tr>\n    <tr>\n      <th>...</th>\n      <td>...</td>\n      <td>...</td>\n      <td>...</td>\n      <td>...</td>\n      <td>...</td>\n      <td>...</td>\n      <td>...</td>\n      <td>...</td>\n      <td>...</td>\n      <td>...</td>\n      <td>...</td>\n      <td>...</td>\n      <td>...</td>\n      <td>...</td>\n      <td>...</td>\n    </tr>\n    <tr>\n      <th>6489</th>\n      <td>white</td>\n      <td>6.2</td>\n      <td>0.21</td>\n      <td>0.29</td>\n      <td>1.6</td>\n      <td>0.039</td>\n      <td>24.0</td>\n      <td>92.0</td>\n      <td>0.99114</td>\n      <td>3.27</td>\n      <td>0.50</td>\n      <td>11.2</td>\n      <td>6</td>\n      <td>Average</td>\n      <td>2</td>\n    </tr>\n    <tr>\n      <th>6490</th>\n      <td>white</td>\n      <td>6.6</td>\n      <td>0.32</td>\n      <td>0.36</td>\n      <td>8.0</td>\n      <td>0.047</td>\n      <td>57.0</td>\n      <td>168.0</td>\n      <td>0.99490</td>\n      <td>3.15</td>\n      <td>0.46</td>\n      <td>9.6</td>\n      <td>5</td>\n      <td>Below Average</td>\n      <td>0</td>\n    </tr>\n    <tr>\n      <th>6491</th>\n      <td>white</td>\n      <td>6.5</td>\n      <td>0.24</td>\n      <td>0.19</td>\n      <td>1.2</td>\n      <td>0.041</td>\n      <td>30.0</td>\n      <td>111.0</td>\n      <td>0.99254</td>\n      <td>2.99</td>\n      <td>0.46</td>\n      <td>9.4</td>\n      <td>6</td>\n      <td>Average</td>\n      <td>2</td>\n    </tr>\n    <tr>\n      <th>6492</th>\n      <td>white</td>\n      <td>5.5</td>\n      <td>0.29</td>\n      <td>0.30</td>\n      <td>1.1</td>\n      <td>0.022</td>\n      <td>20.0</td>\n      <td>110.0</td>\n      <td>0.98869</td>\n      <td>3.34</td>\n      <td>0.38</td>\n      <td>12.8</td>\n      <td>7</td>\n      <td>Above Average</td>\n      <td>1</td>\n    </tr>\n    <tr>\n      <th>6493</th>\n      <td>white</td>\n      <td>6.0</td>\n      <td>0.21</td>\n      <td>0.38</td>\n      <td>0.8</td>\n      <td>0.020</td>\n      <td>22.0</td>\n      <td>98.0</td>\n      <td>0.98941</td>\n      <td>3.26</td>\n      <td>0.32</td>\n      <td>11.8</td>\n      <td>6</td>\n      <td>Average</td>\n      <td>2</td>\n    </tr>\n  </tbody>\n</table>\n<p>6494 rows × 15 columns</p>\n</div>"
     },
     "metadata": {},
     "execution_count": 6
    }
   ],
   "source": [
    "wine"
   ]
  },
  {
   "cell_type": "code",
   "execution_count": 12,
   "metadata": {},
   "outputs": [
    {
     "output_type": "execute_result",
     "data": {
      "text/plain": [
       "Index(['Wine', 'Fixed Acidity (g/dm^3)', 'Volatile Acidity (g/dm^3)',\n",
       "       'Citric Acid (g/dm^3)', 'Residual Sugar (g/dm^3)', 'Chlorides (g/dm^3)',\n",
       "       'Free Sulfur Dioxide (mg/dm^3)', 'Total Sulfur Dioxide (mg/dm^3)',\n",
       "       'Density (g/cm^3)', 'pH', 'Sulphates (g/dm^3)', 'Alcohol (%)',\n",
       "       'Quality', 'Quality Factor', 'Quality Factor Numeric'],\n",
       "      dtype='object')"
      ]
     },
     "metadata": {},
     "execution_count": 12
    }
   ],
   "source": [
    "cols = wine.columns\n",
    "cols"
   ]
  },
  {
   "cell_type": "code",
   "execution_count": 14,
   "metadata": {},
   "outputs": [],
   "source": [
    "def density(factor = 'Alcohol'):\n",
    "    \n",
    "    chart = alt.Chart(wine\n",
    "            ).transform_density(\n",
    "                density=factor,\n",
    "                groupby=['Wine', 'Quality Factor'],\n",
    "                as_=['value', 'density'],\n",
    "                steps=200, # bandwidth=5\n",
    "            ).mark_area(opacity=0.5).encode(\n",
    "                alt.X('value:Q', title=factor, axis=alt.Axis(labels=True, grid=True)),\n",
    "                alt.Y('density:Q', title=None, axis=alt.Axis(labels=False, grid=False, ticks=False)),\n",
    "                alt.Color('Wine', scale=alt.Scale(range=['darkred', '#ff9581'])),\n",
    "                alt.Facet('Quality Factor:N', columns = 1)\n",
    "            ).properties(\n",
    "                height=200, width=400,\n",
    "                title = alt.TitleParams(\n",
    "                text='Wine Quality Factor Distributions', \n",
    "                align='left', fontSize=14,\n",
    "                subtitle='Reds and Whites superimposed', subtitleFontSize=12)\n",
    "            ).configure_view(stroke=None).configure_headerFacet(title=None, labelAlign='right',labelAnchor='end',  labelFontWeight=600, labelFontSize=12\n",
    "            ).interactive()\n",
    "    \n",
    "    return chart"
   ]
  },
  {
   "cell_type": "code",
   "execution_count": 15,
   "metadata": {},
   "outputs": [
    {
     "output_type": "execute_result",
     "data": {
      "text/html": "\n<div id=\"altair-viz-fe023631013b431ebe70c9424d92152b\"></div>\n<script type=\"text/javascript\">\n  (function(spec, embedOpt){\n    let outputDiv = document.currentScript.previousElementSibling;\n    if (outputDiv.id !== \"altair-viz-fe023631013b431ebe70c9424d92152b\") {\n      outputDiv = document.getElementById(\"altair-viz-fe023631013b431ebe70c9424d92152b\");\n    }\n    const paths = {\n      \"vega\": \"https://cdn.jsdelivr.net/npm//vega@5?noext\",\n      \"vega-lib\": \"https://cdn.jsdelivr.net/npm//vega-lib?noext\",\n      \"vega-lite\": \"https://cdn.jsdelivr.net/npm//vega-lite@4.8.1?noext\",\n      \"vega-embed\": \"https://cdn.jsdelivr.net/npm//vega-embed@6?noext\",\n    };\n\n    function loadScript(lib) {\n      return new Promise(function(resolve, reject) {\n        var s = document.createElement('script');\n        s.src = paths[lib];\n        s.async = true;\n        s.onload = () => resolve(paths[lib]);\n        s.onerror = () => reject(`Error loading script: ${paths[lib]}`);\n        document.getElementsByTagName(\"head\")[0].appendChild(s);\n      });\n    }\n\n    function showError(err) {\n      outputDiv.innerHTML = `<div class=\"error\" style=\"color:red;\">${err}</div>`;\n      throw err;\n    }\n\n    function displayChart(vegaEmbed) {\n      vegaEmbed(outputDiv, spec, embedOpt)\n        .catch(err => showError(`Javascript Error: ${err.message}<br>This usually means there's a typo in your chart specification. See the javascript console for the full traceback.`));\n    }\n\n    if(typeof define === \"function\" && define.amd) {\n      requirejs.config({paths});\n      require([\"vega-embed\"], displayChart, err => showError(`Error loading script: ${err.message}`));\n    } else if (typeof vegaEmbed === \"function\") {\n      displayChart(vegaEmbed);\n    } else {\n      loadScript(\"vega\")\n        .then(() => loadScript(\"vega-lite\"))\n        .then(() => loadScript(\"vega-embed\"))\n        .catch(showError)\n        .then(() => displayChart(vegaEmbed));\n    }\n  })({\"config\": {\"view\": {\"continuousWidth\": 400, \"continuousHeight\": 300, \"stroke\": null}, \"headerFacet\": {\"labelAlign\": \"right\", \"labelAnchor\": \"end\", \"labelFontSize\": 12, \"labelFontWeight\": 600, \"title\": null}}, \"data\": {\"url\": \"http://localhost:21602/45e883c3064889f6bcb2731e9e2abff3.json\"}, \"mark\": {\"type\": \"area\", \"opacity\": 0.5}, \"encoding\": {\"color\": {\"type\": \"nominal\", \"field\": \"Wine\", \"scale\": {\"range\": [\"darkred\", \"#ff9581\"]}}, \"facet\": {\"type\": \"nominal\", \"columns\": 1, \"field\": \"Quality Factor\"}, \"x\": {\"type\": \"quantitative\", \"axis\": {\"grid\": true, \"labels\": true}, \"field\": \"value\", \"title\": \"Residual Sugar (g/dm^3)\"}, \"y\": {\"type\": \"quantitative\", \"axis\": {\"grid\": false, \"labels\": false, \"ticks\": false}, \"field\": \"density\", \"title\": null}}, \"height\": 200, \"selection\": {\"selector002\": {\"type\": \"interval\", \"bind\": \"scales\", \"encodings\": [\"x\", \"y\"]}}, \"title\": {\"text\": \"Wine Quality Factor Distributions\", \"align\": \"left\", \"fontSize\": 14, \"subtitle\": \"Reds and Whites superimposed\", \"subtitleFontSize\": 12}, \"transform\": [{\"density\": \"Residual Sugar (g/dm^3)\", \"groupby\": [\"Wine\", \"Quality Factor\"], \"steps\": 200, \"as\": [\"value\", \"density\"]}], \"width\": 400, \"$schema\": \"https://vega.github.io/schema/vega-lite/v4.8.1.json\"}, {\"mode\": \"vega-lite\"});\n</script>",
      "text/plain": [
       "alt.Chart(...)"
      ]
     },
     "metadata": {},
     "execution_count": 15
    }
   ],
   "source": [
    "density(cols[4])"
   ]
  },
  {
   "cell_type": "code",
   "execution_count": 16,
   "metadata": {},
   "outputs": [
    {
     "output_type": "execute_result",
     "data": {
      "text/html": "\n<div id=\"altair-viz-76131906d75c4635a167e4a18ef2dd80\"></div>\n<script type=\"text/javascript\">\n  (function(spec, embedOpt){\n    let outputDiv = document.currentScript.previousElementSibling;\n    if (outputDiv.id !== \"altair-viz-76131906d75c4635a167e4a18ef2dd80\") {\n      outputDiv = document.getElementById(\"altair-viz-76131906d75c4635a167e4a18ef2dd80\");\n    }\n    const paths = {\n      \"vega\": \"https://cdn.jsdelivr.net/npm//vega@5?noext\",\n      \"vega-lib\": \"https://cdn.jsdelivr.net/npm//vega-lib?noext\",\n      \"vega-lite\": \"https://cdn.jsdelivr.net/npm//vega-lite@4.8.1?noext\",\n      \"vega-embed\": \"https://cdn.jsdelivr.net/npm//vega-embed@6?noext\",\n    };\n\n    function loadScript(lib) {\n      return new Promise(function(resolve, reject) {\n        var s = document.createElement('script');\n        s.src = paths[lib];\n        s.async = true;\n        s.onload = () => resolve(paths[lib]);\n        s.onerror = () => reject(`Error loading script: ${paths[lib]}`);\n        document.getElementsByTagName(\"head\")[0].appendChild(s);\n      });\n    }\n\n    function showError(err) {\n      outputDiv.innerHTML = `<div class=\"error\" style=\"color:red;\">${err}</div>`;\n      throw err;\n    }\n\n    function displayChart(vegaEmbed) {\n      vegaEmbed(outputDiv, spec, embedOpt)\n        .catch(err => showError(`Javascript Error: ${err.message}<br>This usually means there's a typo in your chart specification. See the javascript console for the full traceback.`));\n    }\n\n    if(typeof define === \"function\" && define.amd) {\n      requirejs.config({paths});\n      require([\"vega-embed\"], displayChart, err => showError(`Error loading script: ${err.message}`));\n    } else if (typeof vegaEmbed === \"function\") {\n      displayChart(vegaEmbed);\n    } else {\n      loadScript(\"vega\")\n        .then(() => loadScript(\"vega-lite\"))\n        .then(() => loadScript(\"vega-embed\"))\n        .catch(showError)\n        .then(() => displayChart(vegaEmbed));\n    }\n  })({\"config\": {\"view\": {\"continuousWidth\": 400, \"continuousHeight\": 300, \"stroke\": null}, \"headerFacet\": {\"labelAlign\": \"right\", \"labelAnchor\": \"end\", \"labelFontSize\": 12, \"labelFontWeight\": 600, \"title\": null}}, \"data\": {\"url\": \"http://localhost:21602/45e883c3064889f6bcb2731e9e2abff3.json\"}, \"mark\": {\"type\": \"area\", \"opacity\": 0.5}, \"encoding\": {\"color\": {\"type\": \"nominal\", \"field\": \"Wine\", \"scale\": {\"range\": [\"darkred\", \"#ff9581\"]}}, \"facet\": {\"type\": \"nominal\", \"columns\": 1, \"field\": \"Quality Factor\"}, \"x\": {\"type\": \"quantitative\", \"axis\": {\"grid\": true, \"labels\": true}, \"field\": \"value\", \"title\": \"Free Sulfur Dioxide (mg/dm^3)\"}, \"y\": {\"type\": \"quantitative\", \"axis\": {\"grid\": false, \"labels\": false, \"ticks\": false}, \"field\": \"density\", \"title\": null}}, \"height\": 200, \"selection\": {\"selector003\": {\"type\": \"interval\", \"bind\": \"scales\", \"encodings\": [\"x\", \"y\"]}}, \"title\": {\"text\": \"Wine Quality Factor Distributions\", \"align\": \"left\", \"fontSize\": 14, \"subtitle\": \"Reds and Whites superimposed\", \"subtitleFontSize\": 12}, \"transform\": [{\"density\": \"Free Sulfur Dioxide (mg/dm^3)\", \"groupby\": [\"Wine\", \"Quality Factor\"], \"steps\": 200, \"as\": [\"value\", \"density\"]}], \"width\": 400, \"$schema\": \"https://vega.github.io/schema/vega-lite/v4.8.1.json\"}, {\"mode\": \"vega-lite\"});\n</script>",
      "text/plain": [
       "alt.Chart(...)"
      ]
     },
     "metadata": {},
     "execution_count": 16
    }
   ],
   "source": [
    "density(cols[6])"
   ]
  },
  {
   "cell_type": "code",
   "execution_count": 17,
   "metadata": {},
   "outputs": [
    {
     "output_type": "execute_result",
     "data": {
      "text/html": "\n<div id=\"altair-viz-c92c1c9e50e8421b8b6e4bba54425e82\"></div>\n<script type=\"text/javascript\">\n  (function(spec, embedOpt){\n    let outputDiv = document.currentScript.previousElementSibling;\n    if (outputDiv.id !== \"altair-viz-c92c1c9e50e8421b8b6e4bba54425e82\") {\n      outputDiv = document.getElementById(\"altair-viz-c92c1c9e50e8421b8b6e4bba54425e82\");\n    }\n    const paths = {\n      \"vega\": \"https://cdn.jsdelivr.net/npm//vega@5?noext\",\n      \"vega-lib\": \"https://cdn.jsdelivr.net/npm//vega-lib?noext\",\n      \"vega-lite\": \"https://cdn.jsdelivr.net/npm//vega-lite@4.8.1?noext\",\n      \"vega-embed\": \"https://cdn.jsdelivr.net/npm//vega-embed@6?noext\",\n    };\n\n    function loadScript(lib) {\n      return new Promise(function(resolve, reject) {\n        var s = document.createElement('script');\n        s.src = paths[lib];\n        s.async = true;\n        s.onload = () => resolve(paths[lib]);\n        s.onerror = () => reject(`Error loading script: ${paths[lib]}`);\n        document.getElementsByTagName(\"head\")[0].appendChild(s);\n      });\n    }\n\n    function showError(err) {\n      outputDiv.innerHTML = `<div class=\"error\" style=\"color:red;\">${err}</div>`;\n      throw err;\n    }\n\n    function displayChart(vegaEmbed) {\n      vegaEmbed(outputDiv, spec, embedOpt)\n        .catch(err => showError(`Javascript Error: ${err.message}<br>This usually means there's a typo in your chart specification. See the javascript console for the full traceback.`));\n    }\n\n    if(typeof define === \"function\" && define.amd) {\n      requirejs.config({paths});\n      require([\"vega-embed\"], displayChart, err => showError(`Error loading script: ${err.message}`));\n    } else if (typeof vegaEmbed === \"function\") {\n      displayChart(vegaEmbed);\n    } else {\n      loadScript(\"vega\")\n        .then(() => loadScript(\"vega-lite\"))\n        .then(() => loadScript(\"vega-embed\"))\n        .catch(showError)\n        .then(() => displayChart(vegaEmbed));\n    }\n  })({\"config\": {\"view\": {\"continuousWidth\": 400, \"continuousHeight\": 300, \"stroke\": null}, \"headerFacet\": {\"labelAlign\": \"right\", \"labelAnchor\": \"end\", \"labelFontSize\": 12, \"labelFontWeight\": 600, \"title\": null}}, \"data\": {\"url\": \"http://localhost:21602/45e883c3064889f6bcb2731e9e2abff3.json\"}, \"mark\": {\"type\": \"area\", \"opacity\": 0.5}, \"encoding\": {\"color\": {\"type\": \"nominal\", \"field\": \"Wine\", \"scale\": {\"range\": [\"darkred\", \"#ff9581\"]}}, \"facet\": {\"type\": \"nominal\", \"columns\": 1, \"field\": \"Quality Factor\"}, \"x\": {\"type\": \"quantitative\", \"axis\": {\"grid\": true, \"labels\": true}, \"field\": \"value\", \"title\": \"Density (g/cm^3)\"}, \"y\": {\"type\": \"quantitative\", \"axis\": {\"grid\": false, \"labels\": false, \"ticks\": false}, \"field\": \"density\", \"title\": null}}, \"height\": 200, \"selection\": {\"selector004\": {\"type\": \"interval\", \"bind\": \"scales\", \"encodings\": [\"x\", \"y\"]}}, \"title\": {\"text\": \"Wine Quality Factor Distributions\", \"align\": \"left\", \"fontSize\": 14, \"subtitle\": \"Reds and Whites superimposed\", \"subtitleFontSize\": 12}, \"transform\": [{\"density\": \"Density (g/cm^3)\", \"groupby\": [\"Wine\", \"Quality Factor\"], \"steps\": 200, \"as\": [\"value\", \"density\"]}], \"width\": 400, \"$schema\": \"https://vega.github.io/schema/vega-lite/v4.8.1.json\"}, {\"mode\": \"vega-lite\"});\n</script>",
      "text/plain": [
       "alt.Chart(...)"
      ]
     },
     "metadata": {},
     "execution_count": 17
    }
   ],
   "source": [
    "density(cols[8])"
   ]
  }
 ],
 "metadata": {
  "kernelspec": {
   "display_name": "Python 3",
   "language": "python",
   "name": "python3"
  },
  "language_info": {
   "codemirror_mode": {
    "name": "ipython",
    "version": 3
   },
   "file_extension": ".py",
   "mimetype": "text/x-python",
   "name": "python",
   "nbconvert_exporter": "python",
   "pygments_lexer": "ipython3",
   "version": "3.8.3-final"
  }
 },
 "nbformat": 4,
 "nbformat_minor": 4
}